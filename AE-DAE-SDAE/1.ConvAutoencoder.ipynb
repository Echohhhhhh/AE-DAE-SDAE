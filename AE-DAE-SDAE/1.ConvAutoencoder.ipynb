{
 "cells": [
  {
   "cell_type": "markdown",
   "metadata": {},
   "source": [
    "卷积自编码器\n",
    "------------------\n",
    "* 卷积自动编码器架构图\n",
    "\n",
    "<img src='pic/3-1.png'>\n",
    "\n",
    "* Convolutional Autoencoder生成图片和原图片对比\n",
    "\n",
    "<img src='pic/4.png'>\n",
    "\n",
    "* Convolutional Autoencoder训练accuracy和loss变化图\n",
    "\n",
    "<img src='pic/5.png'>"
   ]
  },
  {
   "cell_type": "code",
   "execution_count": 1,
   "metadata": {},
   "outputs": [
    {
     "name": "stderr",
     "output_type": "stream",
     "text": [
      "D:\\Anaconda\\lib\\site-packages\\h5py\\__init__.py:36: FutureWarning: Conversion of the second argument of issubdtype from `float` to `np.floating` is deprecated. In future, it will be treated as `np.float64 == np.dtype(float).type`.\n",
      "  from ._conv import register_converters as _register_converters\n",
      "Using TensorFlow backend.\n"
     ]
    }
   ],
   "source": [
    "import numpy as np\n",
    "\n",
    "from keras.datasets import mnist\n",
    "from keras.models import Model\n",
    "from keras.layers import Conv2D, MaxPool2D,Input, UpSampling2D\n",
    "import matplotlib.pyplot as plt\n"
   ]
  },
  {
   "cell_type": "code",
   "execution_count": 2,
   "metadata": {},
   "outputs": [],
   "source": [
    "np.random.seed(33)   # random seed，to reproduce results.\n",
    "\n",
    "CHANNEL_1 = 16\n",
    "CHANNEL_2 = 8\n",
    "CHANNEL_OUTPUT = 1\n",
    "EPOCHS = 20\n",
    "BATCH_SIZE = 64"
   ]
  },
  {
   "cell_type": "code",
   "execution_count": 3,
   "metadata": {},
   "outputs": [],
   "source": [
    "def train(x_train):\n",
    "    \"\"\"\n",
    "    build autoencoder.\n",
    "    :param x_train:  the train data\n",
    "    :return: encoder and decoder\n",
    "    \"\"\"\n",
    "    # input placeholder\n",
    "    input_image = Input(shape=(28, 28, 1))\n",
    "\n",
    "    # encoding layer\n",
    "    x = Conv2D(CHANNEL_1, (3, 3), activation='relu', padding=\"same\")(input_image)\n",
    "    x = MaxPool2D((2, 2), padding='same')(x)\n",
    "    x = Conv2D(CHANNEL_2, (3, 3), activation='relu', padding='same')(x)\n",
    "    encoded = MaxPool2D((2, 2), padding='same')(x)\n",
    "\n",
    "    # decoding layer\n",
    "    x = Conv2D(CHANNEL_2, (3, 3), activation='relu', padding='same')(encoded)\n",
    "    x = UpSampling2D((2, 2))(x)\n",
    "    x = Conv2D(CHANNEL_1, (3, 3),activation='relu', padding='same')(x)\n",
    "    x = UpSampling2D((2, 2))(x)\n",
    "    decoded = Conv2D(CHANNEL_OUTPUT, (3, 3), activation='sigmoid', padding='same')(x)\n",
    "\n",
    "    # build autoencoder, encoder, decoder\n",
    "    autoencoder = Model(inputs=input_image, outputs=decoded)\n",
    "    encoder = Model(inputs=input_image, outputs=encoded)\n",
    "\n",
    "    # compile autoencoder\n",
    "    autoencoder.compile(optimizer='adam', loss='binary_crossentropy', metrics=['accuracy'])\n",
    "\n",
    "    autoencoder.summary()\n",
    "\n",
    "    # training\n",
    "    # need return history, otherwise can not use history[\"acc\"]\n",
    "    history_record = autoencoder.fit(x_train, x_train, epochs=EPOCHS, batch_size=BATCH_SIZE, shuffle=True, )\n",
    "\n",
    "    return encoder, autoencoder, history_record"
   ]
  },
  {
   "cell_type": "code",
   "execution_count": 4,
   "metadata": {},
   "outputs": [],
   "source": [
    "def plotAccuray(history_record):\n",
    "    \"\"\"\n",
    "    plot the accuracy and loss line.\n",
    "    :param history_record:\n",
    "    :return:\n",
    "    \"\"\"\n",
    "    accuracy = history_record.history[\"acc\"]\n",
    "    loss = history_record.history[\"loss\"]\n",
    "    epochs = range(len(accuracy))\n",
    "    plt.plot(epochs, accuracy, 'bo', label='Training accuracy')\n",
    "    plt.title('Training accuracy')\n",
    "    plt.legend()\n",
    "    plt.figure()\n",
    "    plt.plot(epochs, loss, 'bo', label='Training loss')\n",
    "    plt.title('Training loss')\n",
    "    plt.legend()\n",
    "    plt.show()"
   ]
  },
  {
   "cell_type": "code",
   "execution_count": 5,
   "metadata": {},
   "outputs": [],
   "source": [
    "def showImages(decode_images, x_test):\n",
    "    \"\"\"\n",
    "    plot the images.\n",
    "    :param decode_images: the images after decoding\n",
    "    :param x_test: testing data\n",
    "    :return:\n",
    "    \"\"\"\n",
    "    n = 10\n",
    "    plt.figure(figsize=(20, 4))\n",
    "    for i in range(n):\n",
    "        ax = plt.subplot(2, n, i+1)\n",
    "        ax.imshow(x_test[i].reshape(28, 28))\n",
    "        plt.gray()\n",
    "        ax.get_xaxis().set_visible(False)\n",
    "        ax.get_yaxis().set_visible(False)\n",
    "\n",
    "        ax = plt.subplot(2, n, i + 1 + n)\n",
    "        ax.imshow(decode_images[i].reshape(28, 28))\n",
    "        plt.gray()\n",
    "        ax.get_xaxis().set_visible(False)\n",
    "        ax.get_yaxis().set_visible(False)\n",
    "    plt.show()"
   ]
  },
  {
   "cell_type": "code",
   "execution_count": 6,
   "metadata": {},
   "outputs": [
    {
     "name": "stdout",
     "output_type": "stream",
     "text": [
      "_________________________________________________________________\n",
      "Layer (type)                 Output Shape              Param #   \n",
      "=================================================================\n",
      "input_1 (InputLayer)         (None, 28, 28, 1)         0         \n",
      "_________________________________________________________________\n",
      "conv2d_1 (Conv2D)            (None, 28, 28, 16)        160       \n",
      "_________________________________________________________________\n",
      "max_pooling2d_1 (MaxPooling2 (None, 14, 14, 16)        0         \n",
      "_________________________________________________________________\n",
      "conv2d_2 (Conv2D)            (None, 14, 14, 8)         1160      \n",
      "_________________________________________________________________\n",
      "max_pooling2d_2 (MaxPooling2 (None, 7, 7, 8)           0         \n",
      "_________________________________________________________________\n",
      "conv2d_3 (Conv2D)            (None, 7, 7, 8)           584       \n",
      "_________________________________________________________________\n",
      "up_sampling2d_1 (UpSampling2 (None, 14, 14, 8)         0         \n",
      "_________________________________________________________________\n",
      "conv2d_4 (Conv2D)            (None, 14, 14, 16)        1168      \n",
      "_________________________________________________________________\n",
      "up_sampling2d_2 (UpSampling2 (None, 28, 28, 16)        0         \n",
      "_________________________________________________________________\n",
      "conv2d_5 (Conv2D)            (None, 28, 28, 1)         145       \n",
      "=================================================================\n",
      "Total params: 3,217\n",
      "Trainable params: 3,217\n",
      "Non-trainable params: 0\n",
      "_________________________________________________________________\n",
      "Epoch 1/20\n",
      "60000/60000 [==============================] - 69s 1ms/step - loss: 0.1297 - acc: 0.8093\n",
      "Epoch 2/20\n",
      "60000/60000 [==============================] - 69s 1ms/step - loss: 0.0813 - acc: 0.8146\n",
      "Epoch 3/20\n",
      "60000/60000 [==============================] - 70s 1ms/step - loss: 0.0779 - acc: 0.8149\n",
      "Epoch 4/20\n",
      "60000/60000 [==============================] - 70s 1ms/step - loss: 0.0759 - acc: 0.8150\n",
      "Epoch 5/20\n",
      "60000/60000 [==============================] - 68s 1ms/step - loss: 0.0746 - acc: 0.8151\n",
      "Epoch 6/20\n",
      "60000/60000 [==============================] - 68s 1ms/step - loss: 0.0736 - acc: 0.8152\n",
      "Epoch 7/20\n",
      "60000/60000 [==============================] - 66s 1ms/step - loss: 0.0730 - acc: 0.8152\n",
      "Epoch 8/20\n",
      "60000/60000 [==============================] - 66s 1ms/step - loss: 0.0724 - acc: 0.8152\n",
      "Epoch 9/20\n",
      "60000/60000 [==============================] - 67s 1ms/step - loss: 0.0720 - acc: 0.8152\n",
      "Epoch 10/20\n",
      "60000/60000 [==============================] - 68s 1ms/step - loss: 0.0717 - acc: 0.8152\n",
      "Epoch 11/20\n",
      "60000/60000 [==============================] - 70s 1ms/step - loss: 0.0714 - acc: 0.8153\n",
      "Epoch 12/20\n",
      "60000/60000 [==============================] - 69s 1ms/step - loss: 0.0712 - acc: 0.8153\n",
      "Epoch 13/20\n",
      "60000/60000 [==============================] - 67s 1ms/step - loss: 0.0710 - acc: 0.8153\n",
      "Epoch 14/20\n",
      "60000/60000 [==============================] - 66s 1ms/step - loss: 0.0708 - acc: 0.8153\n",
      "Epoch 15/20\n",
      "60000/60000 [==============================] - 67s 1ms/step - loss: 0.0707 - acc: 0.8153\n",
      "Epoch 16/20\n",
      "60000/60000 [==============================] - 65s 1ms/step - loss: 0.0705 - acc: 0.8153\n",
      "Epoch 17/20\n",
      "60000/60000 [==============================] - 66s 1ms/step - loss: 0.0704 - acc: 0.8153\n",
      "Epoch 18/20\n",
      "60000/60000 [==============================] - 70s 1ms/step - loss: 0.0703 - acc: 0.8153\n",
      "Epoch 19/20\n",
      "60000/60000 [==============================] - 64s 1ms/step - loss: 0.0702 - acc: 0.8153\n",
      "Epoch 20/20\n",
      "60000/60000 [==============================] - 67s 1ms/step - loss: 0.0702 - acc: 0.8153\n"
     ]
    },
    {
     "data": {
      "image/png": "[encoded data removed]",
      "text/plain": [
       "<Figure size 1440x288 with 20 Axes>"
      ]
     },
     "metadata": {},
     "output_type": "display_data"
    },
    {
     "data": {
      "image/png": "[encoded data removed]",
      "text/plain": [
       "<Figure size 432x288 with 1 Axes>"
      ]
     },
     "metadata": {},
     "output_type": "display_data"
    },
    {
     "data": {
      "image/png": "[encoded data removed]",
      "text/plain": [
       "<Figure size 432x288 with 1 Axes>"
      ]
     },
     "metadata": {},
     "output_type": "display_data"
    }
   ],
   "source": [
    "if __name__ == '__main__':\n",
    "    # Step1： load data  x_train: (60000, 28, 28), y_train: (60000,) x_test: (10000, 28, 28), y_test: (10000,)\n",
    "    (x_train, y_train), (x_test, y_test) = mnist.load_data()\n",
    "\n",
    "    # Step2: normalize\n",
    "    x_train = x_train.astype('float32') / 255.\n",
    "    x_test = x_test.astype('float32') / 255.\n",
    "\n",
    "    # Step3: reshape data, x_train: (60000, 28, 28, 1), x_test: (10000, 28, 28, 1), one row denotes one sample.\n",
    "    x_train = x_train.reshape((x_train.shape[0], 28, 28, 1))\n",
    "    x_test = x_test.reshape((x_test.shape[0], 28, 28, 1))\n",
    "\n",
    "    # Step4： train\n",
    "    encoder, autoencoder, history_record = train(x_train=x_train)\n",
    "\n",
    "    # show images\n",
    "    decode_images = autoencoder.predict(x_test)\n",
    "    showImages(decode_images, x_test)\n",
    "\n",
    "    plotAccuray(history_record)"
   ]
  }
 ],
 "metadata": {
  "kernelspec": {
   "display_name": "Python 3",
   "language": "python",
   "name": "python3"
  },
  "language_info": {
   "codemirror_mode": {
    "name": "ipython",
    "version": 3
   },
   "file_extension": ".py",
   "mimetype": "text/x-python",
   "name": "python",
   "nbconvert_exporter": "python",
   "pygments_lexer": "ipython3",
   "version": "3.6.5"
  }
 },
 "nbformat": 4,
 "nbformat_minor": 2
}
