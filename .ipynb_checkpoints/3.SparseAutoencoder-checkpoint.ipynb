{
 "cells": [
  {
   "cell_type": "markdown",
   "metadata": {},
   "source": [
    "稀疏自编码器\n",
    "-------------\n",
    "\n",
    "* 稀疏自动编码器架构图\n",
    "\n",
    "<img src='pic/9.png'>\n",
    "\n",
    "* 稀疏自动编码器架构图\n",
    "\n",
    "<img src='pic/10.png'>\n",
    "\n",
    "* 稀疏自动编码器架构图\n",
    "\n",
    "<img src='pic/11.png'>"
   ]
  },
  {
   "cell_type": "code",
   "execution_count": 1,
   "metadata": {},
   "outputs": [
    {
     "name": "stderr",
     "output_type": "stream",
     "text": [
      "D:\\Anaconda\\lib\\site-packages\\h5py\\__init__.py:36: FutureWarning: Conversion of the second argument of issubdtype from `float` to `np.floating` is deprecated. In future, it will be treated as `np.float64 == np.dtype(float).type`.\n",
      "  from ._conv import register_converters as _register_converters\n",
      "Using TensorFlow backend.\n"
     ]
    }
   ],
   "source": [
    "import numpy as np\n",
    "\n",
    "from keras.datasets import mnist\n",
    "from keras.models import Model\n",
    "from keras.layers import Dense, Input, regularizers\n",
    "import matplotlib.pyplot as plt\n",
    "\n",
    "np.random.seed(33)   # random seed，to reproduce results.\n"
   ]
  },
  {
   "cell_type": "code",
   "execution_count": 2,
   "metadata": {},
   "outputs": [],
   "source": [
    "ENCODING_DIM_INPUT = 784\n",
    "ENCODING_DIM_LAYER1 = 128\n",
    "ENCODING_DIM_LAYER2 = 64\n",
    "ENCODING_DIM_LAYER3 = 10\n",
    "ENCODING_DIM_OUTPUT = 2\n",
    "EPOCHS = 20\n",
    "BATCH_SIZE = 64"
   ]
  },
  {
   "cell_type": "code",
   "execution_count": 3,
   "metadata": {},
   "outputs": [],
   "source": [
    "def train(x_train):\n",
    "\n",
    "    # input placeholder\n",
    "    input_image = Input(shape=(ENCODING_DIM_INPUT, ))\n",
    "\n",
    "    # encoding layer\n",
    "    # *****this code is changed compared with Autoencoder, adding the activity_regularizer to make the input sparse.\n",
    "    encode_layer1 = Dense(ENCODING_DIM_LAYER1, activation='relu', activity_regularizer=regularizers.l1(10e-6))(input_image)\n",
    "    # ******************************\n",
    "    encode_layer2 = Dense(ENCODING_DIM_LAYER2, activation='relu')(encode_layer1)\n",
    "    encode_layer3 = Dense(ENCODING_DIM_LAYER3, activation='relu')(encode_layer2)\n",
    "    encode_output = Dense(ENCODING_DIM_OUTPUT)(encode_layer3)\n",
    "\n",
    "    # decoding layer\n",
    "    decode_layer1 = Dense(ENCODING_DIM_LAYER3, activation='relu')(encode_output)\n",
    "    decode_layer2 = Dense(ENCODING_DIM_LAYER2, activation='relu')(decode_layer1)\n",
    "    decode_layer3 = Dense(ENCODING_DIM_LAYER1, activation='relu')(decode_layer2)\n",
    "    decode_output = Dense(ENCODING_DIM_INPUT, activation='tanh')(decode_layer3)\n",
    "\n",
    "    # build autoencoder, encoder\n",
    "    autoencoder = Model(inputs=input_image, outputs=decode_output)\n",
    "    encoder = Model(inputs=input_image, outputs=encode_output)\n",
    "\n",
    "    # compile autoencoder\n",
    "    autoencoder.compile(optimizer='adam', loss='mse')\n",
    "\n",
    "    # training\n",
    "    autoencoder.fit(x_train, x_train, epochs=EPOCHS, batch_size=BATCH_SIZE, shuffle=True)\n",
    "\n",
    "    return encoder, autoencoder\n"
   ]
  },
  {
   "cell_type": "code",
   "execution_count": 4,
   "metadata": {},
   "outputs": [],
   "source": [
    "def plotRepresentation(encode_images, y_test):\n",
    "    \"\"\"\n",
    "    plot the hidden result.\n",
    "    :param encode_images: the images after encoding\n",
    "    :param y_test: the label.\n",
    "    :return:\n",
    "    \"\"\"\n",
    "    # test and plot\n",
    "    plt.scatter(encode_images[:, 0], encode_images[:, 1], c=y_test, s=3)\n",
    "    plt.colorbar()\n",
    "    plt.show()\n",
    "\n",
    "def showImages(decode_images, x_test):\n",
    "    \"\"\"\n",
    "    plot the images.\n",
    "    :param decode_images: the images after decoding\n",
    "    :param x_test: testing data\n",
    "    :return:\n",
    "    \"\"\"\n",
    "    n = 10\n",
    "    plt.figure(figsize=(20, 4))\n",
    "    for i in range(n):\n",
    "        ax = plt.subplot(2, n, i+1)\n",
    "        ax.imshow(x_test[i].reshape(28, 28))\n",
    "        plt.gray()\n",
    "        ax.get_xaxis().set_visible(False)\n",
    "        ax.get_yaxis().set_visible(False)\n",
    "\n",
    "        ax = plt.subplot(2, n, i + 1 + n)\n",
    "        ax.imshow(decode_images[i].reshape(28, 28))\n",
    "        plt.gray()\n",
    "        ax.get_xaxis().set_visible(False)\n",
    "        ax.get_yaxis().set_visible(False)\n",
    "    plt.show()"
   ]
  },
  {
   "cell_type": "code",
   "execution_count": null,
   "metadata": {},
   "outputs": [
    {
     "name": "stdout",
     "output_type": "stream",
     "text": [
      "Epoch 1/20\n",
      "60000/60000 [==============================] - 4s 70us/step - loss: 0.0615\n",
      "Epoch 2/20\n",
      "60000/60000 [==============================] - 4s 60us/step - loss: 0.0527\n",
      "Epoch 3/20\n",
      "60000/60000 [==============================] - 4s 61us/step - loss: 0.0489\n",
      "Epoch 4/20\n",
      "60000/60000 [==============================] - 4s 69us/step - loss: 0.0473\n",
      "Epoch 5/20\n",
      "60000/60000 [==============================] - 4s 68us/step - loss: 0.0464\n",
      "Epoch 6/20\n",
      "18752/60000 [========>.....................] - ETA: 2s - loss: 0.0462"
     ]
    }
   ],
   "source": [
    "if __name__ == '__main__':\n",
    "    # Step1： load data  x_train: (60000, 28, 28), y_train: (60000,) x_test: (10000, 28, 28), y_test: (10000,)\n",
    "    (x_train, y_train), (x_test, y_test) = mnist.load_data()\n",
    "\n",
    "    # Step2: normalize\n",
    "    x_train = x_train.astype('float32') / 255.\n",
    "    x_test = x_test.astype('float32') / 255.\n",
    "\n",
    "    # Step3: reshape data, x_train: (60000, 784), x_test: (10000, 784), one row denotes one sample.\n",
    "    x_train = x_train.reshape((x_train.shape[0], -1))\n",
    "    x_test = x_test.reshape((x_test.shape[0], -1))\n",
    "\n",
    "    # Step4： train\n",
    "    encoder, autoencoder = train(x_train=x_train)\n",
    "\n",
    "    # test and plot\n",
    "    encode_images = encoder.predict(x_test)\n",
    "    plotRepresentation(encode_images, y_test)\n",
    "\n",
    "    # show images\n",
    "    decode_images = autoencoder.predict(x_test)\n",
    "    showImages(decode_images, x_test)"
   ]
  }
 ],
 "metadata": {
  "kernelspec": {
   "display_name": "Python 3",
   "language": "python",
   "name": "python3"
  },
  "language_info": {
   "codemirror_mode": {
    "name": "ipython",
    "version": 3
   },
   "file_extension": ".py",
   "mimetype": "text/x-python",
   "name": "python",
   "nbconvert_exporter": "python",
   "pygments_lexer": "ipython3",
   "version": "3.6.5"
  }
 },
 "nbformat": 4,
 "nbformat_minor": 2
}
