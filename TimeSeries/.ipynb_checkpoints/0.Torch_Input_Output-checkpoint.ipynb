{
 "cells": [
  {
   "cell_type": "code",
   "execution_count": 8,
   "metadata": {},
   "outputs": [
    {
     "data": {
      "text/plain": [
       "<torch._C.Generator at 0x29fc7906bd0>"
      ]
     },
     "execution_count": 8,
     "metadata": {},
     "output_type": "execute_result"
    }
   ],
   "source": [
    "import torch\n",
    "import torch.autograd as autograd # torch中自动计算梯度模块\n",
    "import torch.nn as nn             # 神经网络模块\n",
    "import torch.nn.functional as F   # 神经网络模块中的常用功能 \n",
    "import torch.optim as optim       # 模型优化器模块\n",
    "\n",
    "from torch.autograd import Variable as V\n",
    " \n",
    "torch.manual_seed(1)"
   ]
  },
  {
   "cell_type": "code",
   "execution_count": 9,
   "metadata": {},
   "outputs": [
    {
     "data": {
      "text/plain": [
       "Parameter containing:\n",
       "tensor([[ 0.3643, -0.3121],\n",
       "        [-0.1371,  0.3319],\n",
       "        [-0.6657,  0.4241],\n",
       "        [-0.1455,  0.3597]], requires_grad=True)"
      ]
     },
     "execution_count": 9,
     "metadata": {},
     "output_type": "execute_result"
    }
   ],
   "source": [
    "line = nn.Linear(2, 4)  #输入维度为2，输出为4\n",
    "line.weight   # 参数是随机初始化的，维度是out_dim * in_dim"
   ]
  },
  {
   "cell_type": "code",
   "execution_count": 10,
   "metadata": {},
   "outputs": [
    {
     "data": {
      "text/plain": [
       "tensor([[-0.5756,  0.2488,  1.3717,  0.3937],\n",
       "        [-0.1004, -0.1326,  0.6414, -0.0182],\n",
       "        [-0.2086,  0.0164,  0.7654,  0.1437],\n",
       "        [ 0.3284, -0.3803, -0.0832, -0.2841],\n",
       "        [ 0.1688, -0.0558,  0.0283,  0.0696]], grad_fn=<ThAddmmBackward>)"
      ]
     },
     "execution_count": 10,
     "metadata": {},
     "output_type": "execute_result"
    }
   ],
   "source": [
    "x = V(torch.randn(5, 2))  # batch为5，即一次输入10个x\n",
    "# 用上述训练好的模型进行数据传入\n",
    "line(x)   # 输出为batch * 4"
   ]
  },
  {
   "cell_type": "markdown",
   "metadata": {},
   "source": [
    "### RNN\n",
    "\n",
    "<img src='pic/rnn.jpg'>\n",
    "\n",
    "输入的$X$一般是一个`sequence`，例如[我，爱，北京，天安门]，$x_1$ = '我'\n",
    "\n",
    "对于简单`RNN`，有两种调用方式：`torch.nn.RNNCell()`和`torch.nn.RNN()`，这两种RNN区别在于`RNNCell()`只接受序列中单步输入，且必须传入隐藏状态，`RNN()`可以接受一个序列输入，默认会传入全0的隐藏状态，也可以自己申明隐藏状态传入\n",
    "\n",
    "- RNN(input_dim ,hidden_dim ,num_layers ，…)\n",
    "    - input_dim 表示输入$x_t$的特征维度\n",
    "    - hidden_dim 表示输出的特征维度，如果没有特殊变化，相当于out\n",
    "    - num_layers 表示网络的层数\n",
    "    - nonlinearity 表示选用的非线性激活函数，默认是 ‘tanh’\n",
    "    - bias 表示是否使用偏置，默认使用\n",
    "    - batch_first 表示输入数据的形式，默认是 False，就是这样形式，（seq, batch, feature），也就是序列长度放在第一位，batch放在第二位\n",
    "    - dropout表示是否在输出层应用dropout\n",
    "    - bidirectional 表示是否使用双向rnn，默认是False\n",
    "- 输入$x_t, h_0$\n",
    "    - $x_t$ [seq, batch, input_dim]\n",
    "    - $h_0$ [层数 x 方向，batch, n_dim]\n",
    "- 输出$h_t$，output\n",
    "    - output [seq, batch, n_dim x 方向]\n",
    "    - $h_t$ [层数 x 方向, batch, n_dim]"
   ]
  },
  {
   "cell_type": "code",
   "execution_count": 13,
   "metadata": {},
   "outputs": [
    {
     "data": {
      "text/plain": [
       "(torch.Size([6, 3, 10]), torch.Size([2, 3, 10]))"
      ]
     },
     "execution_count": 13,
     "metadata": {},
     "output_type": "execute_result"
    }
   ],
   "source": [
    "# 构造RNN网络，x的维度5，隐层维度10，网络层数2\n",
    "rnn_seq = nn.RNN(5, 10, 2)\n",
    "# 构造一个输入序列，长为6，batch是3， 特征是5\n",
    "x = V(torch.randn(6, 3, 5))\n",
    "out,ht = rnn_seq(x)  # out,ht = rnn_seq(x,h0)  h0可以指定或者不指定\n",
    "# 输出为(seq, batch, hidden_unit) , 隐层状态为(num_layers, batch, hidden_unit)\n",
    "out.shape, ht.shape"
   ]
  },
  {
   "cell_type": "code",
   "execution_count": 14,
   "metadata": {},
   "outputs": [
    {
     "data": {
      "text/plain": [
       "(torch.Size([3, 10]), torch.Size([3, 10]))"
      ]
     },
     "execution_count": 14,
     "metadata": {},
     "output_type": "execute_result"
    }
   ],
   "source": [
    "# 相等\n",
    "out[-1].shape, ht[-1].shape"
   ]
  },
  {
   "cell_type": "markdown",
   "metadata": {},
   "source": [
    "### LSTM\n",
    "LSTM 为了解决长期依赖问题，生生比基本的 RNN 多了三个非线性变化（共4个非线性变化）。\n",
    "\n",
    "<img src='pic/LSTM.jpg'>\n",
    "注意共4个非线性变化。其中三个sigmoid变化分别对应的三个门：**遗忘门 $f$、输入门（当前状态）$i$、输出门$o$**。这三个门的取值为[0,1]，可以看做选择系数可以很好的控制信息的传导。\n",
    "\n",
    "记t时刻的输出如下：遗忘门$f_t$、输入门$i_t$、候选细胞状态$g_t$、细胞状态$h_t$，分别对应5个非线性变换，但是需要学习的参数只有4个，$h_t$不需要学习参数，所以在原图中有个`tanh`用红色椭圆表示\n",
    "\n",
    "<img src='pic/LSTM_describe.jpg'>\n",
    "\n",
    "\n",
    "注意：\n",
    "\n",
    "- 输入有$x_t、c_{t-1}、h_{t-1}$，输出是$h_t$和$c_t$。\n",
    "- 计算$c_t$时，需要计算$f_t$、$i_t$和$g_t$（当前时刻的记忆状态），计算$h_t$时，需要计算$o_t$和$c_t$。\n",
    "- 和输入相关的$W_{ih}$和隐状态相关的$W_{hh}$各有四个$W$要学习。\n",
    "\n",
    "在Pytorch中提供`nn.LSTM`类可以直接实现LSTM模型。\n",
    "\n",
    "- LSTM(x_dim, h_dim, layer_num)\n",
    "- 输入$x_t$、$h_0$、$c_0$\n",
    "  - $x_t$: (seq, batch, x_dim)\n",
    "  - $h_0、c_0$: 为每个批次的每个x设置的隐层状态和记忆单元的初值，其维度都是(num_layer * num_directions, batch, h_dim)\n",
    "- 输出output,($h_n, c_n$)\n",
    "  - output: 每个时刻的LSTM网络最后一层的输出，维度(seq_len, batch, hidden_size * num_directions)\n",
    "  - ($h_n, c_n$): 最后时刻的隐层状态和基于单元状态，维度(num_layers * num_directions, batch, hidden_size)"
   ]
  },
  {
   "cell_type": "code",
   "execution_count": 15,
   "metadata": {},
   "outputs": [
    {
     "data": {
      "text/plain": [
       "(torch.Size([400, 100]),\n",
       " torch.Size([400, 100]),\n",
       " torch.Size([400, 50]),\n",
       " torch.Size([400, 100]))"
      ]
     },
     "execution_count": 15,
     "metadata": {},
     "output_type": "execute_result"
    }
   ],
   "source": [
    "# 输入维度50，隐层100维，两层\n",
    "lstm_seq = nn.LSTM(50, 100, num_layers=2)\n",
    "# 查看网络的权重，ih和hh，共两层，所有四个参数要学习\n",
    "lstm_seq.weight_hh_l0.size(), lstm_seq.weight_hh_l1.size(),lstm_seq.weight_ih_l0.size(),lstm_seq.weight_ih_l1.size() "
   ]
  },
  {
   "cell_type": "code",
   "execution_count": 17,
   "metadata": {},
   "outputs": [
    {
     "data": {
      "text/plain": [
       "(torch.Size([10, 3, 100]), torch.Size([2, 3, 100]), torch.Size([2, 3, 100]))"
      ]
     },
     "execution_count": 17,
     "metadata": {},
     "output_type": "execute_result"
    }
   ],
   "source": [
    "# 输入序列seq=10, batch=3, 输入维度为50\n",
    "lstm_input = V(torch.randn(10, 3, 50))\n",
    "out, (h,c) = lstm_seq(lstm_input) #使用默认的全0隐藏状态\n",
    "# out:(seq, batch, num_hidden) h (num_layers, batch, num_hidden) c (num_layers, batch, num_hidden)\n",
    "out.shape, h.shape, c.shape"
   ]
  },
  {
   "cell_type": "code",
   "execution_count": 21,
   "metadata": {},
   "outputs": [
    {
     "name": "stdout",
     "output_type": "stream",
     "text": [
      "tensor([[1, 1, 1, 1, 1, 1, 1, 1, 1, 1, 1, 1, 1, 1, 1, 1, 1, 1, 1, 1, 1, 1, 1, 1,\n",
      "         1, 1, 1, 1, 1, 1, 1, 1, 1, 1, 1, 1, 1, 1, 1, 1, 1, 1, 1, 1, 1, 1, 1, 1,\n",
      "         1, 1, 1, 1, 1, 1, 1, 1, 1, 1, 1, 1, 1, 1, 1, 1, 1, 1, 1, 1, 1, 1, 1, 1,\n",
      "         1, 1, 1, 1, 1, 1, 1, 1, 1, 1, 1, 1, 1, 1, 1, 1, 1, 1, 1, 1, 1, 1, 1, 1,\n",
      "         1, 1, 1, 1],\n",
      "        [1, 1, 1, 1, 1, 1, 1, 1, 1, 1, 1, 1, 1, 1, 1, 1, 1, 1, 1, 1, 1, 1, 1, 1,\n",
      "         1, 1, 1, 1, 1, 1, 1, 1, 1, 1, 1, 1, 1, 1, 1, 1, 1, 1, 1, 1, 1, 1, 1, 1,\n",
      "         1, 1, 1, 1, 1, 1, 1, 1, 1, 1, 1, 1, 1, 1, 1, 1, 1, 1, 1, 1, 1, 1, 1, 1,\n",
      "         1, 1, 1, 1, 1, 1, 1, 1, 1, 1, 1, 1, 1, 1, 1, 1, 1, 1, 1, 1, 1, 1, 1, 1,\n",
      "         1, 1, 1, 1],\n",
      "        [1, 1, 1, 1, 1, 1, 1, 1, 1, 1, 1, 1, 1, 1, 1, 1, 1, 1, 1, 1, 1, 1, 1, 1,\n",
      "         1, 1, 1, 1, 1, 1, 1, 1, 1, 1, 1, 1, 1, 1, 1, 1, 1, 1, 1, 1, 1, 1, 1, 1,\n",
      "         1, 1, 1, 1, 1, 1, 1, 1, 1, 1, 1, 1, 1, 1, 1, 1, 1, 1, 1, 1, 1, 1, 1, 1,\n",
      "         1, 1, 1, 1, 1, 1, 1, 1, 1, 1, 1, 1, 1, 1, 1, 1, 1, 1, 1, 1, 1, 1, 1, 1,\n",
      "         1, 1, 1, 1]], dtype=torch.uint8)\n"
     ]
    }
   ],
   "source": [
    "print(out[-1,:,:]==h[-1,:,:])"
   ]
  },
  {
   "cell_type": "markdown",
   "metadata": {},
   "source": [
    "### GRU\n",
    "将遗忘门和输入门合并成一个单一的更新门，同样还混合了细胞状态和隐藏状态，只保留了隐藏状态。共三个非线性变化，两个衰减系数$r_t$和$z_t$。输入相关的$W_{ih}和隐藏状态相关的$W_{hh}$各有三个$W$要学习。\n",
    "总体上，最终模型比LSTM模型要简单，也是非常流行的变体。\n",
    "\n",
    "<img src='pic/GRU.jpg'>\n",
    "<img src='pic/GRU_describe.jpg'>\n",
    "\n",
    "Pytorch提供nn.GRU类\n",
    "\n",
    "- GRU(x_dim, h_dim, layer_num,...)\n",
    "- 输入 $x_t$，$h_0$，$x_t$ [seq, batch, x_dim] ,$h_0$ [层数x方向, batch, h_dim]\n",
    "- 输出 out, $h_t$，out [seq, batch, n_dim方向], $h_t$ [层数x方向, batch, h_dim]"
   ]
  },
  {
   "cell_type": "code",
   "execution_count": 22,
   "metadata": {},
   "outputs": [
    {
     "data": {
      "text/plain": [
       "(torch.Size([3, 32, 20]), torch.Size([2, 32, 20]))"
      ]
     },
     "execution_count": 22,
     "metadata": {},
     "output_type": "execute_result"
    }
   ],
   "source": [
    "gru_seq = nn.GRU(10, 20, 2) # x_dim, h_dim, layer_num\n",
    "gru_input = V(torch.randn(3, 32, 10)) # seq, batch, x_dim\n",
    "out, h = gru_seq(gru_input)\n",
    "# out: [seq, batch, num_hidden]  h: [layer_num, batch, num_hidden]\n",
    "out.shape, h.shape"
   ]
  }
 ],
 "metadata": {
  "kernelspec": {
   "display_name": "Python 3",
   "language": "python",
   "name": "python3"
  },
  "language_info": {
   "codemirror_mode": {
    "name": "ipython",
    "version": 3
   },
   "file_extension": ".py",
   "mimetype": "text/x-python",
   "name": "python",
   "nbconvert_exporter": "python",
   "pygments_lexer": "ipython3",
   "version": "3.6.5"
  }
 },
 "nbformat": 4,
 "nbformat_minor": 2
}
